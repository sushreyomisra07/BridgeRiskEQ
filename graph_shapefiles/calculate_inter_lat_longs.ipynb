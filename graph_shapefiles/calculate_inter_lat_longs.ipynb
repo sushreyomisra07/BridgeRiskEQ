{
 "cells": [
  {
   "cell_type": "code",
   "execution_count": 3,
   "metadata": {},
   "outputs": [
    {
     "name": "stdout",
     "output_type": "stream",
     "text": [
      "Point 0: (38.992954, -76.536571433)\n",
      "Point 1: (39.01212375160275, -76.56842258503542)\n",
      "Point 2: (39.031284838015594, -76.60029100436478)\n",
      "Point 3: (39.05043724863238, -76.63217670438024)\n",
      "Point 4: (39.06958097283632, -76.66407969846635)\n",
      "Point 5: (39.088716000000005, -76.696)\n"
     ]
    }
   ],
   "source": [
    "from geopy.distance import geodesic\n",
    "import numpy as np\n",
    "\n",
    "# Input: start and end coordinates (lat, lon)\n",
    "start = (38.992954, -76.536571433)\n",
    "# start = (38.99282526, -76.5477)  # Example: New York\n",
    "end = (39.0887160, -76.69600)   # Example: Los Angeles\n",
    "\n",
    "# Set number of intervals\n",
    "num_intervals = 5\n",
    "\n",
    "# Total distance in km\n",
    "total_distance = geodesic(start, end).km\n",
    "\n",
    "# Create evenly spaced fractions (0 to 1)\n",
    "fractions = np.linspace(0, 1, num_intervals + 1)\n",
    "\n",
    "# Interpolate points\n",
    "def interpolate_coords(start, end, fraction):\n",
    "    lat1, lon1 = np.radians(start)\n",
    "    lat2, lon2 = np.radians(end)\n",
    "\n",
    "    delta = geodesic(start, end).km / 6371  # angular distance in radians\n",
    "    a = np.sin((1 - fraction) * delta) / np.sin(delta)\n",
    "    b = np.sin(fraction * delta) / np.sin(delta)\n",
    "\n",
    "    x = a * np.cos(lat1) * np.cos(lon1) + b * np.cos(lat2) * np.cos(lon2)\n",
    "    y = a * np.cos(lat1) * np.sin(lon1) + b * np.cos(lat2) * np.sin(lon2)\n",
    "    z = a * np.sin(lat1) + b * np.sin(lat2)\n",
    "\n",
    "    lat = np.arctan2(z, np.sqrt(x ** 2 + y ** 2))\n",
    "    lon = np.arctan2(y, x)\n",
    "\n",
    "    return (np.degrees(lat), np.degrees(lon))\n",
    "\n",
    "points = [interpolate_coords(start, end, f) for f in fractions]\n",
    "\n",
    "# Output: List of (lat, lon) points\n",
    "for i, p in enumerate(points):\n",
    "    print(f\"Point {i}: {p}\")\n"
   ]
  },
  {
   "cell_type": "code",
   "execution_count": null,
   "metadata": {},
   "outputs": [],
   "source": []
  }
 ],
 "metadata": {
  "kernelspec": {
   "display_name": "base",
   "language": "python",
   "name": "python3"
  },
  "language_info": {
   "codemirror_mode": {
    "name": "ipython",
    "version": 3
   },
   "file_extension": ".py",
   "mimetype": "text/x-python",
   "name": "python",
   "nbconvert_exporter": "python",
   "pygments_lexer": "ipython3",
   "version": "3.12.7"
  }
 },
 "nbformat": 4,
 "nbformat_minor": 2
}
